{
 "cells": [
  {
   "cell_type": "code",
   "execution_count": 1,
   "metadata": {},
   "outputs": [
    {
     "name": "stdout",
     "output_type": "stream",
     "text": [
      "AA\n"
     ]
    }
   ],
   "source": [
    "print(\"AA\")"
   ]
  },
  {
   "cell_type": "code",
   "execution_count": 11,
   "metadata": {},
   "outputs": [
    {
     "name": "stdout",
     "output_type": "stream",
     "text": [
      "('Ali', 'Aoun', 'mehdi')\n"
     ]
    }
   ],
   "source": [
    "x=(\"Ali\",\"Ans\",\"Aoun\")\n",
    "y=list(x)\n",
    "y.append(\"mehdi\")\n",
    "y.remove(\"Ans\")\n",
    "x=tuple(y)\n",
    "print(x)\n"
   ]
  },
  {
   "cell_type": "code",
   "execution_count": 18,
   "metadata": {},
   "outputs": [
    {
     "name": "stdout",
     "output_type": "stream",
     "text": [
      "apple\n",
      "['banana', 'cherry', 'strawberry']\n",
      "raspberry\n",
      "apple\n",
      "banana\n",
      "cherry\n",
      "strawberry\n",
      "raspberry\n"
     ]
    }
   ],
   "source": [
    "fruits = (\"apple\", \"banana\", \"cherry\", \"strawberry\", \"raspberry\")\n",
    "\n",
    "(green, *yellow, red) = fruits\n",
    "\n",
    "print(green)\n",
    "print(yellow)\n",
    "print(red)\n",
    "\n",
    "for i in range(len(fruits)):\n",
    "    print(fruits[i])"
   ]
  },
  {
   "cell_type": "code",
   "execution_count": 35,
   "metadata": {},
   "outputs": [
    {
     "name": "stdout",
     "output_type": "stream",
     "text": [
      "{'strawberry', 'cherry', 'apple', 'banana', 'raspberry'}\n",
      "strawberry\n",
      "cherry\n",
      "apple\n",
      "banana\n",
      "raspberry\n",
      "True\n",
      "False\n",
      "{'muli', 'bhindi', 'sabzi', 'gajar'}\n",
      "{'bhindi', 'sabzi', 'strawberry', 'cherry', 'apple', 'banana', 'gajar', 'muli', 'raspberry'}\n",
      "bhindi\n",
      "{'sabzi', 'strawberry', 'cherry', 'apple', 'banana', 'gajar', 'muli', 'raspberry'}\n"
     ]
    }
   ],
   "source": [
    "fruits = set((\"apple\", \"banana\", \"cherry\", \"strawberry\", \"raspberry\"))\n",
    "veggies ={\"muli\", \"gajar\",\"sabzi\"}\n",
    "\n",
    "print(fruits)\n",
    "\n",
    "for i in fruits:\n",
    "    print(i)\n",
    "    \n",
    "print(\"apple\" in fruits)\n",
    "print(\"apple\" not in fruits)\n",
    "\n",
    "veggies.add(\"bhindi\")\n",
    "print(veggies)\n",
    "\n",
    "veggies.update(fruits)\n",
    "print(veggies)\n",
    "\n",
    "print(veggies.pop())\n",
    "\n",
    "print(veggies)\n",
    "veggies.discard(\"bhindi\")"
   ]
  },
  {
   "cell_type": "code",
   "execution_count": 50,
   "metadata": {},
   "outputs": [
    {
     "name": "stdout",
     "output_type": "stream",
     "text": [
      "{'name': 'Ali', 'Age': '22', 'Height': '5.10'}\n",
      "{'name': 'Ali', 'Age': '22', 'Height': '5.10', 'Color': 'white'}\n",
      "<class 'dict'>\n",
      "dict_keys(['name', 'Age', 'Height', 'Color'])\n",
      "dict_values(['Ali', '22', '5.10', 'white'])\n",
      "Ali\n",
      "{'name': 'Ali', 'Age': '22', 'Height': '5.10', 'Color': 'Brown'}\n",
      "yes it is\n",
      "name Ali\n",
      "Age 22\n",
      "Height 5.10\n",
      "Color Brown\n"
     ]
    }
   ],
   "source": [
    "student_data=dict(name = \"Ali\", Age = \"22\", Height = \"5.10\")\n",
    "print(student_data)\n",
    "\n",
    "student_data[\"Color\"]=(\"white\")\n",
    "print(student_data)\n",
    "print(type(student_data))\n",
    "print(student_data.keys())\n",
    "print(student_data.values())\n",
    "print(student_data.get(\"name\"))\n",
    "student_data[\"Color\"]=(\"Brown\")\n",
    "print(student_data)\n",
    "if \"Age\" in student_data:\n",
    "    print(\"yes it is\")\n",
    "    \n",
    "for a, b in student_data.items():\n",
    "    print(a,b)"
   ]
  },
  {
   "cell_type": "code",
   "execution_count": 57,
   "metadata": {},
   "outputs": [
    {
     "name": "stdout",
     "output_type": "stream",
     "text": [
      "no error\n"
     ]
    }
   ],
   "source": [
    "user_input= input(\"Enter the word: \")\n",
    "\n",
    "if(user_input==\"quit\"):\n",
    "    print(\"no error\")\n",
    "else:\n",
    "    raise Exception(\"Error Occured\")\n"
   ]
  },
  {
   "cell_type": "code",
   "execution_count": 92,
   "metadata": {},
   "outputs": [
    {
     "name": "stdout",
     "output_type": "stream",
     "text": [
      "['45', '65', '78']\n"
     ]
    }
   ],
   "source": [
    "with open(\"data.txt\", \"r\") as file:\n",
    "    # f= file.read()\n",
    "    # print(f)\n",
    "  lines = file.readline()\n",
    "  data=lines.split()\n",
    "  print(data)\n",
    "# for line in lines:\n",
    "#     print(line.strip())\n",
    "    \n",
    "\n",
    "   "
   ]
  },
  {
   "cell_type": "code",
   "execution_count": 121,
   "metadata": {},
   "outputs": [
    {
     "name": "stdout",
     "output_type": "stream",
     "text": [
      "  Subjects  Marks\n",
      "0    Maths     75\n",
      "1  Physics     57\n",
      "2     Urdu     56\n",
      "The minimum marks are  56\n",
      "The maximum marks are  75\n",
      "The Total marks are  188\n",
      "The average of the student is 62.666666666666664\n"
     ]
    }
   ],
   "source": [
    "import pandas as pd\n",
    "csv_file=pd.read_csv('Book1.csv')\n",
    "\n",
    "print(csv_file)\n",
    "store_marks = csv_file[\"Marks\"]\n",
    "\n",
    "minimum_marks=min(store_marks)\n",
    "maximum_marks=max(store_marks)\n",
    "total_marks= sum(store_marks)\n",
    "\n",
    "print(\"The minimum marks are \", minimum_marks)\n",
    "print(\"The maximum marks are \",maximum_marks)\n",
    "print(\"The Total marks are \",total_marks)\n",
    "print(f\"The average of the student is {total_marks/len(store_marks)}\")\n"
   ]
  },
  {
   "cell_type": "code",
   "execution_count": 143,
   "metadata": {},
   "outputs": [
    {
     "name": "stdout",
     "output_type": "stream",
     "text": [
      "195\n"
     ]
    }
   ],
   "source": [
    "file=open(\"numbers.txt\", \"r\")\n",
    "\n",
    "f=file.read().split()\n",
    "\n",
    "number= [int(num) for num in f]\n",
    "print(sum(number))\n",
    "\n",
    "with open(\"sum.txt\",\"w\") as file2:\n",
    "    \n",
    " file2.write(str(sum(number)))"
   ]
  },
  {
   "cell_type": "code",
   "execution_count": 179,
   "metadata": {},
   "outputs": [
    {
     "name": "stdout",
     "output_type": "stream",
     "text": [
      "['Alice 85\\n', 'Bob 50\\n', 'Carol 75\\n', 'Dave 88']\n",
      "74.5\n"
     ]
    }
   ],
   "source": [
    "# with open(\"numbers.txt\") as file:\n",
    "#     f=file.readlines()\n",
    "#     print(f)\n",
    "    \n",
    "# total_grade=0\n",
    "# total_students=0\n",
    "\n",
    "# with open(\"data.txt\", \"w\") as file2:\n",
    " \n",
    "#     for line in f:\n",
    "#         name, grade=line.split()\n",
    "        \n",
    "#         grade=int(grade)\n",
    "#         total_grade+=grade\n",
    "#         total_students+=1\n",
    "        \n",
    "#         result = \"Pass\" if grade > 60  else \"Fail\"\n",
    "        \n",
    "#         file2.write(f\"{name} {grade} {result}\\n\")\n",
    "       \n",
    "    \n",
    "#     print(total_grade/total_students)     \n",
    "\n",
    "    # Input\n",
    "    # Alice 85\n",
    "    # Bob 50\n",
    "    # Carol 75\n",
    "    # Dave 88\n",
    "    # outputAlice 85 Pass\n",
    "    # Bob 50 Fail\n",
    "    # Carol 75 Pass\n",
    "    # Dave 88 Pass"
   ]
  },
  {
   "cell_type": "code",
   "execution_count": 403,
   "metadata": {},
   "outputs": [
    {
     "ename": "ValueError",
     "evalue": "not enough values to unpack (expected 4, got 1)",
     "output_type": "error",
     "traceback": [
      "\u001b[1;31m---------------------------------------------------------------------------\u001b[0m",
      "\u001b[1;31mValueError\u001b[0m                                Traceback (most recent call last)",
      "Cell \u001b[1;32mIn[403], line 9\u001b[0m\n\u001b[0;32m      6\u001b[0m file2\u001b[38;5;241m=\u001b[39m \u001b[38;5;28mopen\u001b[39m(\u001b[38;5;124m\"\u001b[39m\u001b[38;5;124mdata.txt\u001b[39m\u001b[38;5;124m\"\u001b[39m, \u001b[38;5;124m\"\u001b[39m\u001b[38;5;124mw\u001b[39m\u001b[38;5;124m\"\u001b[39m)\n\u001b[0;32m      8\u001b[0m \u001b[38;5;28;01mfor\u001b[39;00m line \u001b[38;5;129;01min\u001b[39;00m f:\n\u001b[1;32m----> 9\u001b[0m     date, product, price, quantity\u001b[38;5;241m=\u001b[39mline\u001b[38;5;241m.\u001b[39msplit()\n\u001b[0;32m     11\u001b[0m     price\u001b[38;5;241m=\u001b[39m\u001b[38;5;28mfloat\u001b[39m(price)\n\u001b[0;32m     12\u001b[0m     quantity\u001b[38;5;241m=\u001b[39m\u001b[38;5;28mint\u001b[39m(quantity)\n",
      "\u001b[1;31mValueError\u001b[0m: not enough values to unpack (expected 4, got 1)"
     ]
    }
   ],
   "source": [
    "with open(\"numbers.txt\", \"r\") as file:\n",
    "    f= file.readlines()\n",
    "\n",
    "\n",
    "\n",
    "file2= open(\"data.txt\", \"w\")\n",
    "\n",
    "for line in f:\n",
    "    date, product, price, quantity=line.split()\n",
    "    \n",
    "    price=float(price)\n",
    "    quantity=int(quantity)\n",
    "    \n",
    "    price*quantity\n",
    "    \n",
    "    file2.write(f\"{product} {price*quantity}\\n\")\n",
    "    \n",
    "file2.close()\n",
    "    \n",
    "    "
   ]
  },
  {
   "cell_type": "code",
   "execution_count": 209,
   "metadata": {},
   "outputs": [
    {
     "name": "stdout",
     "output_type": "stream",
     "text": [
      "duf'f\n",
      "[45, 56]\n",
      "{'kilo': 45, \"duf'f\": 56}\n"
     ]
    }
   ],
   "source": [
    "i = 1\n",
    "subjects = list()\n",
    "while i == 1:\n",
    "    subject = input(\"Enter the name of the subject: \")\n",
    "    subjects.append(subject)\n",
    "    i = int(\n",
    "        input(\"If you wish to add more subjects Press 1 or any other kry to exit: \")\n",
    "    )\n",
    "print(subject)\n",
    "total_subjects=len(subjects)\n",
    "\n",
    "marks = []\n",
    "for n in range(total_subjects):\n",
    "    mark = int(input(f\"Enter the Marks of {subjects[n]} : \"))\n",
    "    marks.append(mark)\n",
    "    \n",
    "print(marks)\n",
    "final_dict = {}\n",
    "for i in range(total_subjects):\n",
    "\n",
    "    final_dict[subjects[i]] = marks[i]\n",
    "\n",
    "print(final_dict)\n",
    "\n",
    "\n",
    "import pandas as pd\n",
    "\n",
    "with open(\"output.csv\",\"w\") as output_file:\n",
    "    \n",
    " df=pd.DataFrame(list(final_dict.items()), columns=['subject', 'marks'])\n",
    " df.to_csv(\"output.csv\", index=False)"
   ]
  },
  {
   "cell_type": "code",
   "execution_count": 212,
   "metadata": {},
   "outputs": [],
   "source": [
    "data = [{\n",
    "    'subject': 'english', 'marks': 25\n",
    "},{\n",
    "    'subject': 'urdu', 'marks': 39\n",
    "},{\n",
    "    'subject': 'math', 'marks': 75\n",
    "}]\n",
    "pd.DataFrame(data).to_csv('out.csv', index=False)"
   ]
  },
  {
   "cell_type": "code",
   "execution_count": 214,
   "metadata": {},
   "outputs": [
    {
     "data": {
      "text/plain": [
       "{'kilo': 45, \"duf'f\": 56}"
      ]
     },
     "execution_count": 214,
     "metadata": {},
     "output_type": "execute_result"
    }
   ],
   "source": [
    "final_dict"
   ]
  },
  {
   "cell_type": "code",
   "execution_count": 257,
   "metadata": {},
   "outputs": [],
   "source": [
    "final_dict=[{'kilo': [45, \"Luffy\"], \"duf'f\": \"Dr Tenma\"}, {'kilo': \"Luffy\", \"duf'f\": 56}]"
   ]
  },
  {
   "cell_type": "code",
   "execution_count": 258,
   "metadata": {},
   "outputs": [],
   "source": [
    "data= pd.DataFrame(final_dict, index=range(len(final_dict)))"
   ]
  },
  {
   "cell_type": "code",
   "execution_count": 259,
   "metadata": {},
   "outputs": [
    {
     "data": {
      "text/html": [
       "<div>\n",
       "<style scoped>\n",
       "    .dataframe tbody tr th:only-of-type {\n",
       "        vertical-align: middle;\n",
       "    }\n",
       "\n",
       "    .dataframe tbody tr th {\n",
       "        vertical-align: top;\n",
       "    }\n",
       "\n",
       "    .dataframe thead th {\n",
       "        text-align: right;\n",
       "    }\n",
       "</style>\n",
       "<table border=\"1\" class=\"dataframe\">\n",
       "  <thead>\n",
       "    <tr style=\"text-align: right;\">\n",
       "      <th></th>\n",
       "      <th>kilo</th>\n",
       "      <th>duf'f</th>\n",
       "    </tr>\n",
       "  </thead>\n",
       "  <tbody>\n",
       "    <tr>\n",
       "      <th>0</th>\n",
       "      <td>[45, Luffy]</td>\n",
       "      <td>Dr Tenma</td>\n",
       "    </tr>\n",
       "    <tr>\n",
       "      <th>1</th>\n",
       "      <td>Luffy</td>\n",
       "      <td>56</td>\n",
       "    </tr>\n",
       "  </tbody>\n",
       "</table>\n",
       "</div>"
      ],
      "text/plain": [
       "          kilo     duf'f\n",
       "0  [45, Luffy]  Dr Tenma\n",
       "1        Luffy        56"
      ]
     },
     "execution_count": 259,
     "metadata": {},
     "output_type": "execute_result"
    }
   ],
   "source": [
    "data"
   ]
  },
  {
   "cell_type": "code",
   "execution_count": 396,
   "metadata": {},
   "outputs": [
    {
     "data": {
      "text/plain": [
       "'Dr Tenma'"
      ]
     },
     "execution_count": 396,
     "metadata": {},
     "output_type": "execute_result"
    }
   ],
   "source": [
    "# data.loc[1, \"kilo\"]\n",
    "data.iloc[0,2]"
   ]
  },
  {
   "cell_type": "code",
   "execution_count": 398,
   "metadata": {},
   "outputs": [
    {
     "name": "stdout",
     "output_type": "stream",
     "text": [
      "9\n"
     ]
    }
   ],
   "source": [
    "for _, row in data.iterrows():\n",
    "    if isinstance(row[\"kilo\"],  int): # checks if row[\"kilo\"] is `int` type\n",
    "        print(row[\"kilo\"])"
   ]
  },
  {
   "cell_type": "code",
   "execution_count": 262,
   "metadata": {},
   "outputs": [],
   "source": [
    "data.to_csv(\"lol.csv\", index=False)"
   ]
  },
  {
   "cell_type": "code",
   "execution_count": 263,
   "metadata": {},
   "outputs": [
    {
     "data": {
      "text/html": [
       "<div>\n",
       "<style scoped>\n",
       "    .dataframe tbody tr th:only-of-type {\n",
       "        vertical-align: middle;\n",
       "    }\n",
       "\n",
       "    .dataframe tbody tr th {\n",
       "        vertical-align: top;\n",
       "    }\n",
       "\n",
       "    .dataframe thead th {\n",
       "        text-align: right;\n",
       "    }\n",
       "</style>\n",
       "<table border=\"1\" class=\"dataframe\">\n",
       "  <thead>\n",
       "    <tr style=\"text-align: right;\">\n",
       "      <th></th>\n",
       "      <th>kilo</th>\n",
       "      <th>duf'f</th>\n",
       "    </tr>\n",
       "  </thead>\n",
       "  <tbody>\n",
       "    <tr>\n",
       "      <th>0</th>\n",
       "      <td>[45, Luffy]</td>\n",
       "      <td>Dr Tenma</td>\n",
       "    </tr>\n",
       "    <tr>\n",
       "      <th>1</th>\n",
       "      <td>Luffy</td>\n",
       "      <td>56</td>\n",
       "    </tr>\n",
       "  </tbody>\n",
       "</table>\n",
       "</div>"
      ],
      "text/plain": [
       "          kilo     duf'f\n",
       "0  [45, Luffy]  Dr Tenma\n",
       "1        Luffy        56"
      ]
     },
     "execution_count": 263,
     "metadata": {},
     "output_type": "execute_result"
    }
   ],
   "source": [
    "data.head()"
   ]
  },
  {
   "cell_type": "code",
   "execution_count": 264,
   "metadata": {},
   "outputs": [
    {
     "name": "stdout",
     "output_type": "stream",
     "text": [
      "<class 'pandas.core.frame.DataFrame'>\n",
      "RangeIndex: 2 entries, 0 to 1\n",
      "Data columns (total 2 columns):\n",
      " #   Column  Non-Null Count  Dtype \n",
      "---  ------  --------------  ----- \n",
      " 0   kilo    2 non-null      object\n",
      " 1   duf'f   2 non-null      object\n",
      "dtypes: object(2)\n",
      "memory usage: 164.0+ bytes\n"
     ]
    }
   ],
   "source": [
    "data.info()"
   ]
  },
  {
   "cell_type": "code",
   "execution_count": 267,
   "metadata": {},
   "outputs": [
    {
     "data": {
      "text/html": [
       "<div>\n",
       "<style scoped>\n",
       "    .dataframe tbody tr th:only-of-type {\n",
       "        vertical-align: middle;\n",
       "    }\n",
       "\n",
       "    .dataframe tbody tr th {\n",
       "        vertical-align: top;\n",
       "    }\n",
       "\n",
       "    .dataframe thead th {\n",
       "        text-align: right;\n",
       "    }\n",
       "</style>\n",
       "<table border=\"1\" class=\"dataframe\">\n",
       "  <thead>\n",
       "    <tr style=\"text-align: right;\">\n",
       "      <th></th>\n",
       "      <th>kilo</th>\n",
       "      <th>duf'f</th>\n",
       "    </tr>\n",
       "  </thead>\n",
       "  <tbody>\n",
       "    <tr>\n",
       "      <th>count</th>\n",
       "      <td>2</td>\n",
       "      <td>2</td>\n",
       "    </tr>\n",
       "    <tr>\n",
       "      <th>unique</th>\n",
       "      <td>2</td>\n",
       "      <td>2</td>\n",
       "    </tr>\n",
       "    <tr>\n",
       "      <th>top</th>\n",
       "      <td>[45, Luffy]</td>\n",
       "      <td>Dr Tenma</td>\n",
       "    </tr>\n",
       "    <tr>\n",
       "      <th>freq</th>\n",
       "      <td>1</td>\n",
       "      <td>1</td>\n",
       "    </tr>\n",
       "  </tbody>\n",
       "</table>\n",
       "</div>"
      ],
      "text/plain": [
       "               kilo     duf'f\n",
       "count             2         2\n",
       "unique            2         2\n",
       "top     [45, Luffy]  Dr Tenma\n",
       "freq              1         1"
      ]
     },
     "execution_count": 267,
     "metadata": {},
     "output_type": "execute_result"
    }
   ],
   "source": [
    "data.describe()"
   ]
  },
  {
   "cell_type": "code",
   "execution_count": 272,
   "metadata": {},
   "outputs": [
    {
     "data": {
      "text/html": [
       "<div>\n",
       "<style scoped>\n",
       "    .dataframe tbody tr th:only-of-type {\n",
       "        vertical-align: middle;\n",
       "    }\n",
       "\n",
       "    .dataframe tbody tr th {\n",
       "        vertical-align: top;\n",
       "    }\n",
       "\n",
       "    .dataframe thead th {\n",
       "        text-align: right;\n",
       "    }\n",
       "</style>\n",
       "<table border=\"1\" class=\"dataframe\">\n",
       "  <thead>\n",
       "    <tr style=\"text-align: right;\">\n",
       "      <th></th>\n",
       "      <th>kilo</th>\n",
       "      <th>duf'f</th>\n",
       "      <th>kilo</th>\n",
       "      <th>duf'f</th>\n",
       "    </tr>\n",
       "  </thead>\n",
       "  <tbody>\n",
       "    <tr>\n",
       "      <th>0</th>\n",
       "      <td>[45, Luffy]</td>\n",
       "      <td>Dr Tenma</td>\n",
       "      <td>[45, Luffy]</td>\n",
       "      <td>Dr Tenma</td>\n",
       "    </tr>\n",
       "    <tr>\n",
       "      <th>1</th>\n",
       "      <td>Luffy</td>\n",
       "      <td>56</td>\n",
       "      <td>Luffy</td>\n",
       "      <td>56</td>\n",
       "    </tr>\n",
       "  </tbody>\n",
       "</table>\n",
       "</div>"
      ],
      "text/plain": [
       "          kilo     duf'f         kilo     duf'f\n",
       "0  [45, Luffy]  Dr Tenma  [45, Luffy]  Dr Tenma\n",
       "1        Luffy        56        Luffy        56"
      ]
     },
     "execution_count": 272,
     "metadata": {},
     "output_type": "execute_result"
    }
   ],
   "source": [
    "pd.concat([data,data], axis=1)"
   ]
  },
  {
   "cell_type": "code",
   "execution_count": 273,
   "metadata": {},
   "outputs": [],
   "source": [
    "data.loc[5, \"kilo\"] = 9 "
   ]
  },
  {
   "cell_type": "code",
   "execution_count": 401,
   "metadata": {},
   "outputs": [],
   "source": [
    "data = data.reset_index(drop=True).reset_index(names=\"id\")"
   ]
  },
  {
   "cell_type": "code",
   "execution_count": 402,
   "metadata": {},
   "outputs": [
    {
     "data": {
      "text/html": [
       "<div>\n",
       "<style scoped>\n",
       "    .dataframe tbody tr th:only-of-type {\n",
       "        vertical-align: middle;\n",
       "    }\n",
       "\n",
       "    .dataframe tbody tr th {\n",
       "        vertical-align: top;\n",
       "    }\n",
       "\n",
       "    .dataframe thead th {\n",
       "        text-align: right;\n",
       "    }\n",
       "</style>\n",
       "<table border=\"1\" class=\"dataframe\">\n",
       "  <thead>\n",
       "    <tr style=\"text-align: right;\">\n",
       "      <th></th>\n",
       "      <th>id</th>\n",
       "      <th>kilo</th>\n",
       "      <th>duf'f</th>\n",
       "    </tr>\n",
       "  </thead>\n",
       "  <tbody>\n",
       "    <tr>\n",
       "      <th>0</th>\n",
       "      <td>0</td>\n",
       "      <td>[45, Luffy]</td>\n",
       "      <td>Dr Tenma</td>\n",
       "    </tr>\n",
       "    <tr>\n",
       "      <th>1</th>\n",
       "      <td>1</td>\n",
       "      <td>Luffy</td>\n",
       "      <td>56</td>\n",
       "    </tr>\n",
       "    <tr>\n",
       "      <th>2</th>\n",
       "      <td>2</td>\n",
       "      <td>9</td>\n",
       "      <td>NaN</td>\n",
       "    </tr>\n",
       "  </tbody>\n",
       "</table>\n",
       "</div>"
      ],
      "text/plain": [
       "   id         kilo     duf'f\n",
       "0   0  [45, Luffy]  Dr Tenma\n",
       "1   1        Luffy        56\n",
       "2   2            9       NaN"
      ]
     },
     "execution_count": 402,
     "metadata": {},
     "output_type": "execute_result"
    }
   ],
   "source": [
    "data"
   ]
  },
  {
   "cell_type": "code",
   "execution_count": 284,
   "metadata": {},
   "outputs": [
    {
     "data": {
      "text/plain": [
       "35"
      ]
     },
     "execution_count": 284,
     "metadata": {},
     "output_type": "execute_result"
    }
   ],
   "source": [
    "def fun():\n",
    "    return [1, 35, -3]\n",
    "\n",
    "max(fun())"
   ]
  },
  {
   "cell_type": "code",
   "execution_count": null,
   "metadata": {},
   "outputs": [],
   "source": []
  },
  {
   "cell_type": "code",
   "execution_count": 387,
   "metadata": {},
   "outputs": [],
   "source": [
    "class A:\n",
    "    dubi = \"pop\"\n",
    "    \n",
    "    def __init__(self, name=\"Ali\", age=19):\n",
    "        self.name = name\n",
    "        self.age = age\n",
    "        \n",
    "        self._cgpa = 4.0 # protected\n",
    "        self.__fee__ = 40000 # private\n",
    "        \n",
    "\n",
    "    \n",
    "    @classmethod\n",
    "    def manipulate1(cls, ins, name=\"king\"):\n",
    "        print(\"class\")\n",
    "        ins.name=name\n",
    "        \n",
    "        return cls(ins.name, ins.age)\n",
    "    \n",
    "    def manipulate(self, name=\"king\"):\n",
    "        print(\"simple\")\n",
    "        self.name=name\n",
    "        return self\n",
    "\n",
    "    def display1(self):\n",
    "        \n",
    "        print(self.name)    \n",
    "        \n",
    "        \n",
    "    @classmethod\n",
    "    def display(cls):\n",
    "        \n",
    "        print(cls.dubi)\n",
    "        \n",
    "    def __del__(self):\n",
    "        pass\n",
    "    \n",
    "        "
   ]
  },
  {
   "cell_type": "code",
   "execution_count": 391,
   "metadata": {},
   "outputs": [
    {
     "name": "stdout",
     "output_type": "stream",
     "text": [
      "class\n"
     ]
    }
   ],
   "source": [
    "a2=A.manipulate1(a)"
   ]
  },
  {
   "cell_type": "code",
   "execution_count": 392,
   "metadata": {},
   "outputs": [
    {
     "name": "stdout",
     "output_type": "stream",
     "text": [
      "simple\n"
     ]
    }
   ],
   "source": [
    "a1=a.manipulate()"
   ]
  },
  {
   "cell_type": "code",
   "execution_count": 393,
   "metadata": {},
   "outputs": [
    {
     "data": {
      "text/plain": [
       "(<__main__.A at 0x1c0783b0f50>,\n",
       " <__main__.A at 0x1c0783b0f50>,\n",
       " <__main__.A at 0x1c07ae447a0>)"
      ]
     },
     "execution_count": 393,
     "metadata": {},
     "output_type": "execute_result"
    }
   ],
   "source": [
    "a, a1, a2"
   ]
  },
  {
   "cell_type": "code",
   "execution_count": 377,
   "metadata": {},
   "outputs": [],
   "source": [
    "a = A()"
   ]
  },
  {
   "cell_type": "code",
   "execution_count": 378,
   "metadata": {},
   "outputs": [
    {
     "name": "stdout",
     "output_type": "stream",
     "text": [
      "Ali\n"
     ]
    }
   ],
   "source": [
    "A.display1(a)"
   ]
  },
  {
   "cell_type": "code",
   "execution_count": 379,
   "metadata": {},
   "outputs": [
    {
     "name": "stdout",
     "output_type": "stream",
     "text": [
      "Ali\n"
     ]
    }
   ],
   "source": [
    "a.display1()"
   ]
  },
  {
   "cell_type": "code",
   "execution_count": 330,
   "metadata": {},
   "outputs": [
    {
     "data": {
      "text/plain": [
       "'pop'"
      ]
     },
     "execution_count": 330,
     "metadata": {},
     "output_type": "execute_result"
    }
   ],
   "source": [
    "a.dubi"
   ]
  },
  {
   "cell_type": "code",
   "execution_count": 331,
   "metadata": {},
   "outputs": [
    {
     "name": "stdout",
     "output_type": "stream",
     "text": [
      "pop\n"
     ]
    }
   ],
   "source": [
    "A.display()"
   ]
  },
  {
   "cell_type": "code",
   "execution_count": 332,
   "metadata": {},
   "outputs": [
    {
     "data": {
      "text/plain": [
       "40000"
      ]
     },
     "execution_count": 332,
     "metadata": {},
     "output_type": "execute_result"
    }
   ],
   "source": [
    "a.__fee__"
   ]
  },
  {
   "cell_type": "code",
   "execution_count": 429,
   "metadata": {},
   "outputs": [
    {
     "name": "stdout",
     "output_type": "stream",
     "text": [
      "    Product  Sales_Amount       Date\n",
      "0  ProductA           100 2024-01-05\n",
      "1  ProductB           150 2024-01-10\n",
      "2  ProductC           200 2024-01-15\n",
      "3  ProductA           120 2024-02-03\n",
      "4  ProductB           180 2024-02-08\n",
      "5  ProductC           220 2024-02-12\n",
      "6  ProductA           130 2024-03-02\n",
      "7  ProductB           170 2024-03-09\n",
      "8  ProductC           210 2024-03-14\n"
     ]
    }
   ],
   "source": [
    "file = open(\"sales_data.csv\",\"r\")\n",
    "df=pd.read_csv(file, parse_dates=['Date'])\n",
    "print(df)\n",
    "\n",
    "product_sales=df.groupby('Product')['Sales_Amount'].sum().reset_index()\n",
    "df['Month']=df['Date'].dt.month\n",
    "\n",
    "monthly_sales=df.groupby(\"Month\")[\"Sales_Amount\"].sum().reset_index()\n",
    "\n",
    "product_sales.to_csv(\"product-sales_summary.csv\", index=False)\n",
    "monthly_sales.to_csv(\"monthly-sales_summary.csv\", index=False)\n",
    "combined_sales=pd.concat([product_sales,monthly_sales], axis=1)\n",
    "combined_sales.to_csv(\"monthly-sales_summary.csv\", index=False)\n",
    "        \n"
   ]
  },
  {
   "cell_type": "code",
   "execution_count": 448,
   "metadata": {},
   "outputs": [
    {
     "name": "stdout",
     "output_type": "stream",
     "text": [
      "741000\n",
      "        Department  Salary\n",
      "0      Engineering  412000\n",
      "1  Human Resources  122000\n",
      "2        Marketing  207000\n",
      "0           John Doe\n",
      "1         Jane Smith\n",
      "2    Michael Johnson\n",
      "3        Emily Brown\n",
      "4          Chris Lee\n",
      "5       Sarah Taylor\n",
      "6        David Clark\n",
      "7          Amy White\n",
      "8    Robert Martinez\n",
      "9      Lisa Anderson\n",
      "Name: Name, dtype: object\n"
     ]
    }
   ],
   "source": [
    "\n",
    "df= pd.read_csv(\"employee_data.csv\", parse_dates=[\"Hire_Date\"])\n",
    "\n",
    "average_salary=df['Salary'].mean()\n",
    "\n",
    "\n",
    "heighest_salary_department=df.groupby(\"Department\")[\"Salary\"].mean()\n",
    "print(heighest_salary_department)\n",
    "heighest_salary_department=heighest_salary_depa\n",
    "\n",
    "df[\"year\"]=df[\"Hire_Date\"].dt.year\n",
    "\n",
    "\n",
    "\n",
    "\n",
    "\n",
    "\n"
   ]
  },
  {
   "cell_type": "code",
   "execution_count": 484,
   "metadata": {},
   "outputs": [
    {
     "name": "stdout",
     "output_type": "stream",
     "text": [
      "['cars', 'bikes', 'buses', 'trucks']\n",
      "['trucks', 'buses', 'bikes', 'cars']\n"
     ]
    }
   ],
   "source": [
    "#Lists\n",
    "\n",
    "this_list=[\"cars\",\"bikes\", \"jeeps\",\"buses\"]\n",
    "this_list.append(\"trucks\")\n",
    "this_list.remove(\"buses\")\n",
    "this_list.insert(3, \"buses\")\n",
    "this_list.pop(2)\n",
    "\n",
    "the_list=this_list.copy()\n",
    "print(the_list)\n",
    "this_list.reverse()\n",
    "print(this_list)\n",
    "\n"
   ]
  },
  {
   "cell_type": "code",
   "execution_count": 506,
   "metadata": {},
   "outputs": [],
   "source": [
    "import numpy as np"
   ]
  },
  {
   "cell_type": "code",
   "execution_count": 546,
   "metadata": {},
   "outputs": [
    {
     "data": {
      "text/plain": [
       "{'A': 1, 'B': 2, 'C': 2, 'D': 2, 'F': 2}"
      ]
     },
     "execution_count": 546,
     "metadata": {},
     "output_type": "execute_result"
    }
   ],
   "source": [
    "\n",
    "\n",
    "def grade_distribution(arr):\n",
    "    grade_array={'A':0 ,'B':0 ,'C':0 , 'D':0 , 'F':0}\n",
    "    \n",
    "    for x in arr:\n",
    "      \n",
    "        if x > 89 and x < 100 :\n",
    "            grade_array['A']+=1\n",
    "        elif x > 79 and x < 90:\n",
    "            grade_array['B']+=1\n",
    "        elif x > 69 and x < 80 :\n",
    "            grade_array['C']+=1\n",
    "        elif x < 59 and x < 70:\n",
    "            grade_array['D']+=1\n",
    "        else:\n",
    "            grade_array['F']+=1\n",
    "            \n",
    "    \n",
    "    \n",
    "    \n",
    "    return grade_array\n",
    "\n",
    "scores = [85, 92, 78, 60, 45, 70, 80, 66, 58]   \n",
    "grade_distribution(scores)"
   ]
  },
  {
   "cell_type": "code",
   "execution_count": 547,
   "metadata": {},
   "outputs": [
    {
     "data": {
      "text/plain": [
       "71.8"
      ]
     },
     "execution_count": 547,
     "metadata": {},
     "output_type": "execute_result"
    }
   ],
   "source": [
    "def average_temp(arr):\n",
    "    return sum(arr)/len(arr)\n",
    "\n",
    "temp = [70, 72, 68, 75, 74]\n",
    "average_temp(temp)"
   ]
  },
  {
   "cell_type": "code",
   "execution_count": 561,
   "metadata": {},
   "outputs": [
    {
     "name": "stdout",
     "output_type": "stream",
     "text": [
      "True\n",
      "{'heya', 'hola', 'ok', 'hi', 'hello', 'bye', 'hey'}\n"
     ]
    }
   ],
   "source": [
    "#Sets\n",
    "set1={\"hi\",\"hello\",\"hola\",\"salam\",\"hey\"}\n",
    "set2={\"ok\", \"bye\"}\n",
    "\n",
    "set1.update(set2)\n",
    "set1.add(\"heya\")\n",
    "print('hello' in set1)\n",
    "set1.discard(\"salam\")\n",
    "print(set1)"
   ]
  },
  {
   "cell_type": "code",
   "execution_count": 574,
   "metadata": {},
   "outputs": [
    {
     "data": {
      "text/plain": [
       "5"
      ]
     },
     "execution_count": 574,
     "metadata": {},
     "output_type": "execute_result"
    }
   ],
   "source": [
    "def max_profit(arr):\n",
    "    min_value_index=arr.index(min(arr))\n",
    "    \n",
    "    prices= arr[min_value_index:]\n",
    "    max_price=max(prices)\n",
    "    \n",
    "    return max_price-min(arr)\n",
    "\n",
    "stock_prices=[7, 1, 5, 3, 6, 4]\n",
    "max_profit(stock_prices)\n",
    "\n",
    "    "
   ]
  },
  {
   "cell_type": "code",
   "execution_count": 642,
   "metadata": {},
   "outputs": [],
   "source": [
    "import re\n"
   ]
  },
  {
   "cell_type": "code",
   "execution_count": 662,
   "metadata": {},
   "outputs": [
    {
     "name": "stdout",
     "output_type": "stream",
     "text": [
      "['full', 'job', 'description', 'job', 'req', 'id:', '113365typescript/javascript', 'developer', 'the', 'bloomberg', 'center', 'for', 'government', 'excellence', 'at', 'johns', 'hopkins', 'university', 'govex', 'or', 'the', 'center', 'seeks', 'to', 'hire', 'a', 'typescript/javascript', 'developer', 'to', 'join', 'our', 'team', 'of', 'government', 'data', 'and', 'performance', 'practice', 'experts', 'to', 'support', 'senior', 'government', 'leaders', 'across', 'the', 'united', 'states', 'canada', 'and', 'latin', 'america', 'to', 'use', 'data', 'to', 'get', 'better', 'results', 'for', 'resident', 'in', 'this', 'role', 'you', 'will', 'contribute', 'to', 'meaningful', 'projects', 'that', 'improve', \"residents'\", 'lives', 'while', 'collaborating', 'with', 'a', 'passionate', 'team', 'committed', 'to', 'excellence', 'and', 'innovation', 'your', 'primary', 'focus', 'is', 'to', 'support', 'evolve', 'and', 'improve', 'current', 'web', 'products', 'that', 'help', 'local', 'governments', 'easily', 'access', 'data', 'for', 'informed', 'decision-making', 'you', 'will', 'also', 'be', 'part', 'of', 'new', 'project', 'developments', 'across', 'the', 'whole', 'team', 'product', 'portfolio', 'with', 'your', 'expertise', 'in', 'web', 'technologies', 'and', 'a', 'passion', 'for', 'collaboration', 'and', 'experimentation', 'you', 'will', 'play', 'a', 'vital', 'role', 'in', 'contributing', 'to', 'the', 'development', 'of', 'captivating', 'and', 'innovative', 'user', 'experiences', 'since', '2015', 'govex', 'has', 'supported', 'over', '10', '000', 'public', 'sector', 'leaders', 'in', '37', 'countries', 'and', 'over', '568', 'cities', 'counties', 'and', 'states', 'by', 'providing', 'coaching', 'and', 'technical', 'assistance;', 'research', 'and', 'analytics;', 'training', 'and', 'capacity', 'building;', 'and', 'human', 'resource', 'support', 'govex', 'is', 'a', 'recognized', 'leader', 'in', 'the', 'provision', 'of', 'public', 'sector', 'training', 'to', 'upskill', 'employees', 'and', 'improve', 'data', 'practices', 'through', 'self-guided', 'courses', 'and', 'instructor-facilitated', 'learning', 'govex', 'is', 'committed', 'to', 'addressing', 'structural', 'and', 'entrenched', 'racism', 'and', 'recognizes', 'the', 'public', 'sectorâ€™s', 'role', 'in', 'perpetuating', 'these', 'legacies', 'we', 'are', 'looking', 'for', 'candidates', 'committed', 'to', 'dismantling', 'structural', 'and', 'entrenched', 'racism', 'and', 'addressing', 'these', 'issues', 'as', 'we', 'promote', 'this', 'work', 'in', 'communities', 'for', 'more', 'information', 'about', 'govex', 'please', 'visit', 'https://govex', 'jhu', 'edu/', 'specific', 'duties', '&', 'responsibilities', 'design', 'develop', 'and', 'deploy', 'ts/js', 'software', 'solutions', 'collaborate', 'closely', 'with', 'govex', 'colleagues', 'to', 'continuously', 'evolve', 'our', 'web', 'products', 'enhancing', 'accessibility', 'functionality', 'and', 'design', 'to', 'meet', 'the', 'needs', 'of', 'local', 'governments', 'lead', 'the', 'development', 'of', 'new', 'features', 'from', 'concept', 'to', 'deployment', 'fostering', 'a', 'culture', 'of', 'innovation', 'and', 'collaboration', 'work', 'alongside', 'other', 'software', 'engineers', 'and', 'cross-functional', 'teams', 'including', 'johns', 'hopkins', 'university', 'it', 'to', 'integrate', 'solutions', 'seamlessly', 'with', 'existing', 'cloud', 'and', 'enterprise', 'services', 'may', 'perform', 'other', 'duties', 'as', 'assigned', 'special', 'knowledge', 'skills', '&', 'abilities', 'three', 'to', 'five', 'years', 'of', 'experience', 'in', 'html', 'css', 'typescript', 'and', 'javascript', 'proficiency', 'on', 'the', 'best', 'practices', 'to', 'support', 'highly', 'accessible', 'multilingual', 'and', 'performant', 'websites', 'is', 'a', 'must', 'i', 'e', 'html5', 'css3', 'and', 'ecmascript', '6', 'wcag', '2', 'and', 'w3c', 'i18n', '2', 'years', 'experience', 'with', 'react/nextjs', 'or', 'similar', 'relevant', 'and', 'globally', 'supported', 'progressive', 'web', 'application', 'frameworkâ€”supporting', 'both', 'server-side', 'and', 'client', 'side', 'applications', 'e', 'g', 'vue', 'svelte', 'or', 'angular', 'experience', 'working', 'with', 'graphql', 'understanding', 'of', 'mobile-first', 'design', 'principles', 'and', 'implementation', 'familiarity', 'with', 'css', 'preprocessors', 'bundlers', 'and', 'associated', 'languages', 'syntaxes', 'and', 'libraries', 'e', 'g', 'sass', 'less', 'and', 'webpack', 'proficiency', 'with', 'git', 'git', 'flow', 'and', 'github', 'proficiency', 'in', 'utilizing', 'task', 'management', 'systems', 'such', 'as', 'asana', 'to', 'organize', 'and', 'track', 'project', 'tasks', 'milestones', 'and', 'deadlines', 'effectively', 'willingness', 'to', 'learn', 'new', 'technologies', 'familiarity', 'with', 'the', 'following', 'are', 'a', 'plus:', 'figma', 'headless', 'cms', 'tools', 'like', 'strapi', 'data', 'visualization', 'libraries', 'and', 'tools', 'such', 'as', 'd3', 'plotly', 'leaflet', 'mapbox', 'and', 'datawrapper', 'relevant', 'back-end', 'programming', 'language', 'and', 'languages', 'used', 'for', 'data', 'analytics', 'e', 'g', 'python', 'or', 'r', 'minimum', 'qualifications', \"bachelor's\", 'degree', 'five', 'years', 'related', 'experience', 'direct', 'programming', 'experience', 'while', 'pursuing', 'education', 'may', 'count', 'towards', 'related', 'experience', 'significant', 'undergraduate', 'programming', 'coursework', 'or', 'independent', 'project', 'can', 'be', 'considered', 'as', 'related', 'experience', 'additional', 'education', 'may', 'substitute', 'for', 'required', 'experience', 'and', 'additional', 'related', 'experience', 'may', 'substitute', 'for', 'required', 'education', 'to', 'the', 'extent', 'permitted', 'by', 'the', 'jhu', 'equivalency', 'formula', 'preferred', 'qualifications', 'five', 'years', 'of', 'professional', 'experience', 'in', 'web', 'support', 'web', 'development', 'or', 'a', 'similar', 'role', 'preferably', 'in', 'a', 'fast-paced', 'and', 'dynamic', 'environment', 'classified', 'title:', 'software', 'engineer', 'job', 'posting', 'title', 'working', 'title', ':', 'typescript/javascript', 'developer', 'role/level/range:', 'atp/04/pe', 'starting', 'salary', 'range:', '$72', '600', '-', '$127', '000', 'annually', '$90', '000', 'targeted;', 'commensurate', 'with', 'experience', 'employee', 'group:', 'full', 'time', 'schedule:', 'monday-friday', '8am-5:30pm', 'exempt', 'status:', 'exempt', 'location:', 'homewood', 'campus', 'department', 'name:', 'â€‹â€‹â€‹â€‹â€‹â€‹â€‹ctrs', 'for', 'govt', 'excellence', '&', 'public', 'innova', 'personnel', 'area:', 'academic', 'and', 'business', 'centers', 'total', 'rewards', 'the', 'referenced', 'salary', 'range', 'is', 'based', 'on', 'johns', 'hopkins', 'universityâ€™s', 'good', 'faith', 'belief', 'at', 'the', 'time', 'of', 'posting', 'actual', 'compensation', 'may', 'vary', 'based', 'on', 'factors', 'such', 'as', 'geographic', 'location', 'work', 'experience', 'market', 'conditions', 'education/training', 'and', 'skill', 'level', 'johns', 'hopkins', 'offers', 'a', 'total', 'rewards', 'package', 'that', 'supports', 'our', \"employees'\", 'health', 'life', 'career', 'and', 'retirement', 'more', 'information', 'can', 'be', 'found', 'here:', 'https://hr', 'jhu', 'edu/benefits-worklife/', 'please', 'refer', 'to', 'the', 'job', 'description', 'above', 'to', 'see', 'which', 'forms', 'of', 'equivalency', 'are', 'permitted', 'for', 'this', 'position', 'if', 'permitted', 'equivalencies', 'will', 'follow', 'these', 'guidelines:', 'jhu', 'equivalency', 'formula:', '30', 'undergraduate', 'degree', 'credits', 'semester', 'hours', 'or', '18', 'graduate', 'degree', 'credits', 'may', 'substitute', 'for', 'one', 'year', 'of', 'experience', 'additional', 'related', 'experience', 'may', 'substitute', 'for', 'required', 'education', 'on', 'the', 'same', 'basis', 'for', 'jobs', 'where', 'equivalency', 'is', 'permitted', 'up', 'to', 'two', 'years', 'of', 'non-related', 'college', 'course', 'work', 'may', 'be', 'applied', 'towards', 'the', 'total', 'minimum', 'education/experience', 'required', 'for', 'the', 'respective', 'job', '**applicants', 'who', 'do', 'not', 'meet', 'the', 'posted', 'requirements', 'but', 'are', 'completing', 'their', 'final', 'academic', 'semester/quarter', 'will', 'be', 'considered', 'eligible', 'for', 'employment', 'and', 'may', 'be', 'asked', 'to', 'provide', 'additional', 'information', 'confirming', 'their', 'academic', 'completion', 'date', 'the', 'successful', 'candidate', 's', 'for', 'this', 'position', 'will', 'be', 'subject', 'to', 'a', 'pre-employment', 'background', 'check', 'johns', 'hopkins', 'is', 'committed', 'to', 'hiring', 'individuals', 'with', 'a', 'justice-involved', 'background', 'consistent', 'with', 'applicable', 'policies', 'and', 'current', 'practice', 'a', 'prior', 'criminal', 'history', 'does', 'not', 'automatically', 'preclude', 'candidates', 'from', 'employment', 'at', 'johns', 'hopkins', 'university', 'in', 'accordance', 'with', 'applicable', 'law', 'the', 'university', 'will', 'review', 'on', 'an', 'individual', 'basis', 'the', 'date', 'of', 'a', \"candidate's\", 'conviction', 'the', 'nature', 'of', 'the', 'conviction', 'and', 'how', 'the', 'conviction', 'relates', 'to', 'an', 'essential', 'job-related', 'qualification', 'or', 'function', 'the', 'johns', 'hopkins', 'university', 'values', 'diversity', 'equity', 'and', 'inclusion', 'and', 'advances', 'these', 'through', 'our', 'key', 'strategic', 'framework', 'the', 'jhu', 'roadmap', 'on', 'diversity', 'and', 'inclusion', 'equal', 'opportunity', 'employer', 'all', 'qualified', 'applicants', 'will', 'receive', 'consideration', 'for', 'employment', 'without', 'regard', 'to', 'race', 'color', 'religion', 'sex', 'sexual', 'orientation', 'gender', 'identity', 'national', 'origin', 'disability', 'or', 'status', 'as', 'a', 'protected', 'veteran', 'eeo', 'is', 'the', 'law:', 'https://www', 'eeoc', 'gov/sites/default/files/2023-06/22-088_eeoc_knowyourrights6', '12screenrdr', 'pdf', 'accommodation', 'information', 'if', 'you', 'are', 'interested', 'in', 'applying', 'for', 'employment', 'with', 'the', 'johns', 'hopkins', 'university', 'and', 'require', 'special', 'assistance', 'or', 'accommodation', 'during', 'any', 'part', 'of', 'the', 'pre-employment', 'process', 'please', 'contact', 'the', 'talent', 'acquisition', 'office', 'at', 'jhurecruitment@jhu', 'edu', 'for', 'tty', 'users', 'call', 'via', 'maryland', 'relay', 'or', 'dial', '711', 'for', 'more', 'information', 'about', 'workplace', 'accommodations', 'or', 'accessibility', 'at', 'johns', 'hopkins', 'university', 'please', 'visit', 'https://accessibility', 'jhu', 'edu/', 'johns', 'hopkins', 'has', 'mandated', 'covid-19', 'and', 'influenza', 'vaccines', 'as', 'applicable', 'the', 'covid-19', 'vaccine', 'does', 'not', 'apply', 'to', 'positions', 'located', 'in', 'the', 'state', 'of', 'florida', 'exceptions', 'to', 'the', 'covid', 'and', 'flu', 'vaccine', 'requirements', 'may', 'be', 'provided', 'to', 'individuals', 'for', 'religious', 'beliefs', 'or', 'medical', 'reasons', 'requests', 'for', 'an', 'exception', 'must', 'be', 'submitted', 'to', 'the', 'jhu', 'vaccination', 'registry', 'for', 'additional', 'information', 'applicants', 'for', 'som', 'positions', 'should', 'visit', 'https://www', 'hopkinsmedicine', 'org/coronavirus/covid-19-vaccine/', 'and', 'all', 'other', 'jhu', 'applicants', 'should', 'visit', 'https://covidinfo', 'jhu', 'edu/health-safety/covid-vaccination-information/', 'the', 'following', 'additional', 'provisions', 'may', 'apply', 'depending', 'upon', 'campus', 'your', 'recruiter', 'will', 'advise', 'accordingly', 'the', 'pre-employment', 'physical', 'for', 'positions', 'in', 'clinical', 'areas', 'laboratories', 'working', 'with', 'research', 'subjects', 'or', 'involving', 'community', 'contact', 'requires', 'documentation', 'of', 'immune', 'status', 'against', 'rubella', 'german', 'measles', 'rubeola', 'measles', 'mumps', 'varicella', 'chickenpox', 'hepatitis', 'b', 'and', 'documentation', 'of', 'having', 'received', 'the', 'tdap', 'tetanus', 'diphtheria', 'pertussis', 'vaccination', 'this', 'may', 'include', 'documentation', 'of', 'having', 'two', '2', 'mmr', 'vaccines;', 'two', '2', 'varicella', 'vaccines;', 'or', 'antibody', 'status', 'to', 'these', 'diseases', 'from', 'laboratory', 'testing', 'blood', 'tests', 'for', 'immunities', 'to', 'these', 'diseases', 'are', 'ordinarily', 'included', 'in', 'the', 'pre-employment', 'physical', 'exam', 'except', 'for', 'those', 'employees', 'who', 'provide', 'results', 'of', 'blood', 'tests', 'or', 'immunization', 'documentation', 'from', 'their', 'own', 'health', 'care', 'providers', 'any', 'vaccinations', 'required', 'for', 'these', 'diseases', 'will', 'be', 'given', 'at', 'no', 'cost', 'in', 'our', 'occupational', 'health', 'office', 'job', 'type:', 'full-time', 'pay:', '$72', '600', '00', '-', '$127', '000', '00', 'per', 'year', 'benefits:', 'health', 'insurance', 'experience', 'level:', '5', 'years', 'schedule:', '8', 'hour', 'shift', 'work', 'location:', 'in', 'person', '']\n",
      "['', 's', 'direct', 'alongside', 'engineers', 'we', 'permitted', 'hopkinsmedicine', 'employees', 'b', 'formula:', 'javascript', 'college', 'shift', 'over', 'subjects', 'received', 'these', 'year', 'committed', 'ecmascript', 'captivating', 'mmr', 'covid-19', 'provided', 'person', 'america', 'by', 'dial', 'respective', 'coursework', 'completing', 'preferably', 'status:', 'duties', 'veteran', 'latin', 'leaflet', 'employment', 'orientation', 'candidate', 'jhurecruitment@jhu', 'git', 'part', 'total', 'lead', 'belief', 'd3', 'fast-paced', 'websites', 'chickenpox', 'current', 'areas', 'qualifications', 'life', 'help', 'hour', 'resident', 'implementation', 'posted', 'vaccine', 'org/coronavirus/covid-19-vaccine/', 'state', 'commensurate', 'states', 'color', 'german', 'one', 'get', 'towards', 'full', 'salary', 'decision-making', 'as', 'effectively', 'recruiter', 'immunities', 'closely', 'project', '18', 'here:', 'innovative', 'tools', 'individual', 'leader', 'counties', 'national', 'values', 'florida', 'title:', 'offers', 'rubella', 'description', 'skill', 'via', 'assistance', 'prior', 'area:', 'law:', 'call', 'jobs', 'self-guided', 'except', 'candidates', 'date', 'visit', 'like', 'information', 'asana', 'good', 'whole', 'pre-employment', 'policies', 'tests', 'through', 'seeks', 'from', 'preferred', 'functionality', 'graphql', 'https://covidinfo', '8', 'follow', 'datawrapper', 'sectorâ€™s', 'cloud', 'expertise', 'rewards', 'should', 'also', 'job-related', '600', 'will', 'health', 'those', 'sass', 'education/experience', 'process', 'existing', '6', 'personnel', 'gender', 'addressing', 'how', 'entrenched', \"candidate's\", 'based', '$72', 'geographic', 'you', 'essential', 'plus:', 'https://www', 'accordance', 'informed', 'governments', ':', 'resource', 'practice', 'less', 'annually', 'role', 'experiences', 'back-end', 'independent', 'upon', 'promote', 'positions', 'continuously', 'perform', 'two', 'server-side', 'center', 'homewood', 'compensation', '000', 'during', 'research', 'see', 'relay', 'analytics;', 'count', 'other', 'meaningful', 'highly', 'equivalency', 'varicella', 'preclude', 'in', 'analytics', 'accommodations', 'workplace', 'practices', 'experts', 'antibody', 'occupational', 'status', 'conditions', 'performance', 'cross-functional', 'css3', 'reasons', 'services', 'familiarity', 'syntaxes', 'countries', 'training', 'while', 'developer', '37', 'forms', 'an', 'flow', 'fostering', 'sexual', 'care', 'edu/benefits-worklife/', 'department', 'g', 'req', 'technologies', 'undergraduate', 'justice-involved', 'contribute', 'influenza', 'background', '568', 'learn', 'professional', 'progressive', 'teams', 'id:', 'requires', 'dismantling', \"residents'\", 'new', 'it', 'communities', 'e', 'hours', 'learning', 'credits', 'required', 'equity', 'education', 'special', 'human', 'ordinarily', 'history', 'eligible', 'above', 'type:', 'wcag', 'access', 'vaccinations', 'enterprise', 'career', 'johns', 'universityâ€™s', 'such', 'this', 'contributing', 'centers', 'proficiency', 'which', 'innovation', 'consistent', 'who', 'perpetuating', 'additional', 'given', 'https://accessibility', 'depending', 'exception', 'track', 'position', 'visualization', 'exam', 'gov/sites/default/files/2023-06/22-088_eeoc_knowyourrights6', 'providers', 'plotly', 'blood', 'webpack', 'features', 'semester', 'advances', 'significant', 'if', 'collaboration', 'innova', 'tetanus', 'excellence', 'tty', '$90', 'include', 'better', 'automatically', 'considered', 'including', 'require', 'laboratories', 'portfolio', 'same', 'apply', 'religion', 'public', 'provision', 'team', 'criminal', 'atp/04/pe', 'found', 'issues', 'are', 'diseases', 'involving', 'laboratory', 'i18n', 'range', 'cms', 'mobile-first', 'similar', 'referenced', 'cities', 'documentation', 'responsibilities', 'css', 'diphtheria', 'own', 'is', 'opportunity', 'provisions', 'five', 'advise', 'i', 'without', 'do', 'web', 'measles', 'requests', 'to', 'community', 'semester/quarter', 'employer', 'immune', 'typescript/javascript', 'subject', 'that', 'having', 'refer', 'consideration', 'confirming', 'non-related', 'contact', \"bachelor's\", 'frameworkâ€”supporting', 'any', 'hopkins', 'libraries', 'be', 'python', 'completion', '30', 'rubeola', 'easily', 'canada', 'abilities', 'software', 'seamlessly', 'roadmap', 'deploy', 'time', 'applied', 'recognizes', 'posting', 'does', 'applications', 'no', 'diversity', 'structural', 'vary', 'mandated', 'inclusion', 'pdf', 'collaborate', 'relates', 'beliefs', 'qualification', 'pursuing', 'experimentation', 'provide', 'tdap', 'technical', 'faith', 'applying', 'at', 'angular', 'systems', 'equivalencies', 'ts/js', \"employees'\", 'level:', 'associated', 'submitted', 'where', 'multilingual', 'senior', 'racism', 'experience', '00', 'coaching', 'business', 'function', 'about', 'nature', 'following', 'retirement', 'a', 'edu/health-safety/covid-vaccination-information/', 'formula', 'job', 'govt', 'review', 'govex', 'our', 'office', 'skills', 'both', 'deadlines', 'degree', 'package', '12screenrdr', 'specific', 'or', 'schedule:', 'final', 'minimum', 'targeted;', 'providing', 'three', 'law', 'eeoc', 'key', 'maryland', 'receive', 'their', 'focus', 'join', 'since', 'github', 'with', 'jhu', 'title', 'on', 'accessible', 'mapbox', 'passionate', 'cost', 'covid', 'https://govex', 'understanding', 'level', 'registry', 'used', 'race', '**applicants', 'applicants', 'upskill', 'recognized', 'react/nextjs', 'w3c', 'range:', 'bundlers', 'insurance', 'employee', 'edu', 'language', 'r', 'has', 'and', 'please', 'data', 'conviction', 'requirements', 'willingness', 'preprocessors', 'location', 'use', 'relevant', 'solutions', 'per', 'benefits:', 'languages', 'actual', 'application', 'can', 'academic', 'more', 'play', 'testing', 'successful', 'physical', 'talent', 'for', 'develop', 'colleagues', 'working', 'dynamic', 'vaccines;', 'looking', 'edu/', 'related', 'extent', 'classified', 'may', 'guidelines:', 'identity', 'located', 'performant', 'improve', 'design', 'deployment', 'equal', 'assigned', '711', '5', 'html', 'lives', 'vaccination', 'milestones', 'medical', 'course', 'religious', 'location:', 'building;', 'acquisition', 'html5', 'globally', 'knowledge', 'figma', 'against', 'meet', 'product', 'starting', 'check', 'name:', 'hiring', 'all', 'supports', 'strategic', 'integrate', 'pertussis', '113365typescript/javascript', 'management', 'user', 'developments', 'exceptions', 'qualified', 'accordingly', 'projects', 'principles', 'environment', 'organize', 'client', 'eeo', 'hepatitis', 'pay:', 'immunization', 'assistance;', 'vue', 'not', 'the', 'work', 'group:', 'strapi', '2015', 'but', 'enhancing', 'headless', 'applicable', 'side', 'mumps', 'â€‹â€‹â€‹â€‹â€‹â€‹â€‹ctrs', 'substitute', 'https://hr', 'protected', 'vital', 'products', 'university', 'capacity', 'role/level/range:', 'som', 'united', 'individuals', 'accommodation', 'origin', 'local', 'government', 'support', 'primary', 'engineer', 'interested', 'full-time', 'utilizing', 'basis', 'typescript', 'up', 'hire', 'regard', 'users', 'collaborating', 'supported', 'exempt', 'tasks', 'flu', 'concept', 'across', 'included', 'sex', 'results', '$127', 'sector', 'development', 'needs', 'leaders', 'legacies', 'bloomberg', 'accessibility', 'market', 'disability', '-', 'must', 'passion', 'svelte', '10', 'evolve', 'factors', 'programming', '8am-5:30pm', 'monday-friday', 'your', 'culture', 'asked', 'best', 'vaccines', '2', 'campus', 'courses', 'education/training', 'clinical', 'task', 'of', 'graduate', 'instructor-facilitated', 'years', '&', 'framework']\n",
      "1290\n"
     ]
    }
   ],
   "source": [
    "\n",
    "\n",
    "\n",
    "with open(\"para.txt\",\"r\") as file:\n",
    "    df=file.read()\n",
    "    new=df.lower()\n",
    "    # print(df)\n",
    "    \n",
    "# with open(\"WordCount.txt\",\"w\") as file2:\n",
    " \n",
    "    words=re.split(r'[ ,.()\\s]+', new)\n",
    "    print(words)\n",
    "    num=[]\n",
    "    for word in words:\n",
    "        num.append(words.count(word))\n",
    "       \n",
    "        # print(word, num)\n",
    "    my_words=list(set(words))\n",
    "    print(my_words)\n",
    "    print(len(words))\n",
    "    # file2.write(f\"{word}:{num}\\n\")\n",
    "        \n",
    "    \n",
    "  "
   ]
  },
  {
   "cell_type": "code",
   "execution_count": 673,
   "metadata": {},
   "outputs": [],
   "source": [
    "import string\n",
    "from operator import itemgetter \n"
   ]
  },
  {
   "cell_type": "code",
   "execution_count": 691,
   "metadata": {},
   "outputs": [
    {
     "name": "stdout",
     "output_type": "stream",
     "text": [
      "and: 56\n",
      "the: 40\n",
      "to: 35\n",
      "for: 29\n",
      "of: 22\n",
      "in: 18\n",
      "or: 16\n",
      "a: 16\n",
      "with: 15\n",
      "experience: 15\n",
      "may: 12\n",
      "johns: 10\n",
      "hopkins: 10\n",
      "will: 10\n",
      "be: 10\n",
      "is: 8\n",
      "as: 8\n",
      "university: 7\n",
      "these: 7\n",
      "job: 6\n",
      "at: 6\n",
      "govex: 6\n",
      "data: 6\n",
      "web: 6\n",
      "are: 6\n",
      "information: 6\n",
      "years: 6\n",
      "on: 6\n",
      "additional: 6\n",
      "our: 5\n",
      "support: 5\n",
      "this: 5\n",
      "work: 5\n",
      "related: 5\n",
      "required: 5\n",
      "jhu: 5\n",
      "role: 4\n",
      "you: 4\n",
      "committed: 4\n",
      "public: 4\n",
      "candidates: 4\n",
      "please: 4\n",
      "visit: 4\n",
      "from: 4\n",
      "2: 4\n",
      "education: 4\n",
      "substitute: 4\n",
      "permitted: 4\n",
      "equivalency: 4\n",
      "status: 4\n",
      "health: 4\n",
      "applicants: 4\n",
      "employment: 4\n",
      "preemployment: 4\n",
      "documentation: 4\n",
      "developer: 3\n",
      "government: 3\n",
      "excellence: 3\n",
      "team: 3\n",
      "that: 3\n",
      "improve: 3\n",
      "your: 3\n",
      "new: 3\n",
      "project: 3\n",
      "development: 3\n",
      "employees: 3\n",
      "more: 3\n",
      "design: 3\n",
      "software: 3\n",
      "other: 3\n",
      "five: 3\n",
      "proficiency: 3\n",
      "eg: 3\n",
      "working: 3\n",
      "such: 3\n",
      "programming: 3\n",
      "degree: 3\n",
      "title: 3\n",
      "location: 3\n",
      "academic: 3\n",
      "total: 3\n",
      "two: 3\n",
      "not: 3\n",
      "their: 3\n",
      "applicable: 3\n",
      "an: 3\n",
      "conviction: 3\n",
      "vaccines: 3\n",
      "positions: 3\n",
      "diseases: 3\n",
      "full: 2\n",
      "description: 2\n",
      "center: 2\n",
      "typescriptjavascript: 2\n",
      "practice: 2\n",
      "leaders: 2\n",
      "across: 2\n",
      "states: 2\n",
      "results: 2\n",
      "while: 2\n",
      "innovation: 2\n",
      "evolve: 2\n",
      "current: 2\n",
      "products: 2\n",
      "local: 2\n",
      "governments: 2\n",
      "part: 2\n",
      "technologies: 2\n",
      "collaboration: 2\n",
      "has: 2\n",
      "supported: 2\n",
      "over: 2\n",
      "sector: 2\n",
      "by: 2\n",
      "assistance: 2\n",
      "research: 2\n",
      "analytics: 2\n",
      "training: 2\n",
      "practices: 2\n",
      "through: 2\n",
      "addressing: 2\n",
      "structural: 2\n",
      "entrenched: 2\n",
      "racism: 2\n",
      "we: 2\n",
      "about: 2\n",
      "duties: 2\n",
      "solutions: 2\n",
      "accessibility: 2\n",
      "meet: 2\n",
      "special: 2\n",
      "css: 2\n",
      "must: 2\n",
      "similar: 2\n",
      "relevant: 2\n",
      "familiarity: 2\n",
      "languages: 2\n",
      "libraries: 2\n",
      "git: 2\n",
      "following: 2\n",
      "tools: 2\n",
      "minimum: 2\n",
      "qualifications: 2\n",
      "towards: 2\n",
      "undergraduate: 2\n",
      "can: 2\n",
      "considered: 2\n",
      "formula: 2\n",
      "posting: 2\n",
      "salary: 2\n",
      "range: 2\n",
      "time: 2\n",
      "schedule: 2\n",
      "exempt: 2\n",
      "campus: 2\n",
      "rewards: 2\n",
      "based: 2\n",
      "level: 2\n",
      "position: 2\n",
      "if: 2\n",
      "credits: 2\n",
      "year: 2\n",
      "basis: 2\n",
      "who: 2\n",
      "requirements: 2\n",
      "provide: 2\n",
      "date: 2\n",
      "background: 2\n",
      "individuals: 2\n",
      "does: 2\n",
      "law: 2\n",
      "diversity: 2\n",
      "inclusion: 2\n",
      "all: 2\n",
      "accommodation: 2\n",
      "any: 2\n",
      "contact: 2\n",
      "office: 2\n",
      "covid19: 2\n",
      "vaccine: 2\n",
      "apply: 2\n",
      "vaccination: 2\n",
      "should: 2\n",
      "physical: 2\n",
      "measles: 2\n",
      "varicella: 2\n",
      "having: 2\n",
      "blood: 2\n",
      "tests: 2\n",
      "req: 1\n",
      "id: 1\n",
      "113365typescriptjavascript: 1\n",
      "bloomberg: 1\n",
      "seeks: 1\n",
      "hire: 1\n",
      "join: 1\n",
      "performance: 1\n",
      "experts: 1\n",
      "senior: 1\n",
      "united: 1\n",
      "canada: 1\n",
      "latin: 1\n",
      "america: 1\n",
      "use: 1\n",
      "get: 1\n",
      "better: 1\n",
      "resident: 1\n",
      "contribute: 1\n",
      "meaningful: 1\n",
      "projects: 1\n",
      "residents: 1\n",
      "lives: 1\n",
      "collaborating: 1\n",
      "passionate: 1\n",
      "primary: 1\n",
      "focus: 1\n",
      "help: 1\n",
      "easily: 1\n",
      "access: 1\n",
      "informed: 1\n",
      "decisionmaking: 1\n",
      "also: 1\n",
      "developments: 1\n",
      "whole: 1\n",
      "product: 1\n",
      "portfolio: 1\n",
      "expertise: 1\n",
      "passion: 1\n",
      "experimentation: 1\n",
      "play: 1\n",
      "vital: 1\n",
      "contributing: 1\n",
      "captivating: 1\n",
      "innovative: 1\n",
      "user: 1\n",
      "experiences: 1\n",
      "since: 1\n",
      "2015: 1\n",
      "10000: 1\n",
      "37: 1\n",
      "countries: 1\n",
      "568: 1\n",
      "cities: 1\n",
      "counties: 1\n",
      "providing: 1\n",
      "coaching: 1\n",
      "technical: 1\n",
      "capacity: 1\n",
      "building: 1\n",
      "human: 1\n",
      "resource: 1\n",
      "recognized: 1\n",
      "leader: 1\n",
      "provision: 1\n",
      "upskill: 1\n",
      "selfguided: 1\n",
      "courses: 1\n",
      "instructorfacilitated: 1\n",
      "learning: 1\n",
      "recognizes: 1\n",
      "sectorâ€™s: 1\n",
      "perpetuating: 1\n",
      "legacies: 1\n",
      "looking: 1\n",
      "dismantling: 1\n",
      "issues: 1\n",
      "promote: 1\n",
      "communities: 1\n",
      "httpsgovexjhuedu: 1\n",
      "specific: 1\n",
      "responsibilities: 1\n",
      "develop: 1\n",
      "deploy: 1\n",
      "tsjs: 1\n",
      "collaborate: 1\n",
      "closely: 1\n",
      "colleagues: 1\n",
      "continuously: 1\n",
      "enhancing: 1\n",
      "functionality: 1\n",
      "needs: 1\n",
      "lead: 1\n",
      "features: 1\n",
      "concept: 1\n",
      "deployment: 1\n",
      "fostering: 1\n",
      "culture: 1\n",
      "alongside: 1\n",
      "engineers: 1\n",
      "crossfunctional: 1\n",
      "teams: 1\n",
      "including: 1\n",
      "it: 1\n",
      "integrate: 1\n",
      "seamlessly: 1\n",
      "existing: 1\n",
      "cloud: 1\n",
      "enterprise: 1\n",
      "services: 1\n",
      "perform: 1\n",
      "assigned: 1\n",
      "knowledge: 1\n",
      "skills: 1\n",
      "abilities: 1\n",
      "three: 1\n",
      "html: 1\n",
      "typescript: 1\n",
      "javascript: 1\n",
      "best: 1\n",
      "highly: 1\n",
      "accessible: 1\n",
      "multilingual: 1\n",
      "performant: 1\n",
      "websites: 1\n",
      "ie: 1\n",
      "html5: 1\n",
      "css3: 1\n",
      "ecmascript: 1\n",
      "6: 1\n",
      "wcag: 1\n",
      "w3c: 1\n",
      "i18n: 1\n",
      "reactnextjs: 1\n",
      "globally: 1\n",
      "progressive: 1\n",
      "application: 1\n",
      "frameworkâ€”supporting: 1\n",
      "both: 1\n",
      "serverside: 1\n",
      "client: 1\n",
      "side: 1\n",
      "applications: 1\n",
      "vue: 1\n",
      "svelte: 1\n",
      "angular: 1\n",
      "graphql: 1\n",
      "understanding: 1\n",
      "mobilefirst: 1\n",
      "principles: 1\n",
      "implementation: 1\n",
      "preprocessors: 1\n",
      "bundlers: 1\n",
      "associated: 1\n",
      "syntaxes: 1\n",
      "sass: 1\n",
      "less: 1\n",
      "webpack: 1\n",
      "flow: 1\n",
      "github: 1\n",
      "utilizing: 1\n",
      "task: 1\n",
      "management: 1\n",
      "systems: 1\n",
      "asana: 1\n",
      "organize: 1\n",
      "track: 1\n",
      "tasks: 1\n",
      "milestones: 1\n",
      "deadlines: 1\n",
      "effectively: 1\n",
      "willingness: 1\n",
      "learn: 1\n",
      "plus: 1\n",
      "figma: 1\n",
      "headless: 1\n",
      "cms: 1\n",
      "like: 1\n",
      "strapi: 1\n",
      "visualization: 1\n",
      "d3: 1\n",
      "plotly: 1\n",
      "leaflet: 1\n",
      "mapbox: 1\n",
      "datawrapper: 1\n",
      "backend: 1\n",
      "language: 1\n",
      "used: 1\n",
      "python: 1\n",
      "r: 1\n",
      "bachelors: 1\n",
      "direct: 1\n",
      "pursuing: 1\n",
      "count: 1\n",
      "significant: 1\n",
      "coursework: 1\n",
      "independent: 1\n",
      "extent: 1\n",
      "preferred: 1\n",
      "professional: 1\n",
      "preferably: 1\n",
      "fastpaced: 1\n",
      "dynamic: 1\n",
      "environment: 1\n",
      "classified: 1\n",
      "engineer: 1\n",
      "rolelevelrange: 1\n",
      "atp04pe: 1\n",
      "starting: 1\n",
      "72600: 1\n",
      "127000: 1\n",
      "annually: 1\n",
      "90000: 1\n",
      "targeted: 1\n",
      "commensurate: 1\n",
      "employee: 1\n",
      "group: 1\n",
      "mondayfriday: 1\n",
      "8am530pm: 1\n",
      "homewood: 1\n",
      "department: 1\n",
      "name: 1\n",
      "â€‹â€‹â€‹â€‹â€‹â€‹â€‹ctrs: 1\n",
      "govt: 1\n",
      "innova: 1\n",
      "personnel: 1\n",
      "area: 1\n",
      "business: 1\n",
      "centers: 1\n",
      "referenced: 1\n",
      "universityâ€™s: 1\n",
      "good: 1\n",
      "faith: 1\n",
      "belief: 1\n",
      "actual: 1\n",
      "compensation: 1\n",
      "vary: 1\n",
      "factors: 1\n",
      "geographic: 1\n",
      "market: 1\n",
      "conditions: 1\n",
      "educationtraining: 1\n",
      "skill: 1\n",
      "offers: 1\n",
      "package: 1\n",
      "supports: 1\n",
      "life: 1\n",
      "career: 1\n",
      "retirement: 1\n",
      "found: 1\n",
      "here: 1\n",
      "httpshrjhuedubenefitsworklife: 1\n",
      "refer: 1\n",
      "above: 1\n",
      "see: 1\n",
      "which: 1\n",
      "forms: 1\n",
      "equivalencies: 1\n",
      "follow: 1\n",
      "guidelines: 1\n",
      "30: 1\n",
      "semester: 1\n",
      "hours: 1\n",
      "18: 1\n",
      "graduate: 1\n",
      "one: 1\n",
      "same: 1\n",
      "jobs: 1\n",
      "where: 1\n",
      "up: 1\n",
      "nonrelated: 1\n",
      "college: 1\n",
      "course: 1\n",
      "applied: 1\n",
      "educationexperience: 1\n",
      "respective: 1\n",
      "do: 1\n",
      "posted: 1\n",
      "but: 1\n",
      "completing: 1\n",
      "final: 1\n",
      "semesterquarter: 1\n",
      "eligible: 1\n",
      "asked: 1\n",
      "confirming: 1\n",
      "completion: 1\n",
      "successful: 1\n",
      "subject: 1\n",
      "check: 1\n",
      "hiring: 1\n",
      "justiceinvolved: 1\n",
      "consistent: 1\n",
      "policies: 1\n",
      "prior: 1\n",
      "criminal: 1\n",
      "history: 1\n",
      "automatically: 1\n",
      "preclude: 1\n",
      "accordance: 1\n",
      "review: 1\n",
      "individual: 1\n",
      "nature: 1\n",
      "how: 1\n",
      "relates: 1\n",
      "essential: 1\n",
      "jobrelated: 1\n",
      "qualification: 1\n",
      "function: 1\n",
      "values: 1\n",
      "equity: 1\n",
      "advances: 1\n",
      "key: 1\n",
      "strategic: 1\n",
      "framework: 1\n",
      "roadmap: 1\n",
      "equal: 1\n",
      "opportunity: 1\n",
      "employer: 1\n",
      "qualified: 1\n",
      "receive: 1\n",
      "consideration: 1\n",
      "without: 1\n",
      "regard: 1\n",
      "race: 1\n",
      "color: 1\n",
      "religion: 1\n",
      "sex: 1\n",
      "sexual: 1\n",
      "orientation: 1\n",
      "gender: 1\n",
      "identity: 1\n",
      "national: 1\n",
      "origin: 1\n",
      "disability: 1\n",
      "protected: 1\n",
      "veteran: 1\n",
      "eeo: 1\n",
      "httpswwweeocgovsitesdefaultfiles20230622088eeocknowyourrights612screenrdrpdf: 1\n",
      "interested: 1\n",
      "applying: 1\n",
      "require: 1\n",
      "during: 1\n",
      "process: 1\n",
      "talent: 1\n",
      "acquisition: 1\n",
      "jhurecruitmentjhuedu: 1\n",
      "tty: 1\n",
      "users: 1\n",
      "call: 1\n",
      "via: 1\n",
      "maryland: 1\n",
      "relay: 1\n",
      "dial: 1\n",
      "711: 1\n",
      "workplace: 1\n",
      "accommodations: 1\n",
      "httpsaccessibilityjhuedu: 1\n",
      "mandated: 1\n",
      "influenza: 1\n",
      "located: 1\n",
      "state: 1\n",
      "florida: 1\n",
      "exceptions: 1\n",
      "covid: 1\n",
      "flu: 1\n",
      "provided: 1\n",
      "religious: 1\n",
      "beliefs: 1\n",
      "medical: 1\n",
      "reasons: 1\n",
      "requests: 1\n",
      "exception: 1\n",
      "submitted: 1\n",
      "registry: 1\n",
      "som: 1\n",
      "httpswwwhopkinsmedicineorgcoronaviruscovid19vaccine: 1\n",
      "httpscovidinfojhueduhealthsafetycovidvaccinationinformation: 1\n",
      "provisions: 1\n",
      "depending: 1\n",
      "upon: 1\n",
      "recruiter: 1\n",
      "advise: 1\n",
      "accordingly: 1\n",
      "clinical: 1\n",
      "areas: 1\n",
      "laboratories: 1\n",
      "subjects: 1\n",
      "involving: 1\n",
      "community: 1\n",
      "requires: 1\n",
      "immune: 1\n",
      "against: 1\n",
      "rubella: 1\n",
      "german: 1\n",
      "rubeola: 1\n",
      "mumps: 1\n",
      "chickenpox: 1\n",
      "hepatitis: 1\n",
      "b: 1\n",
      "received: 1\n",
      "tdap: 1\n",
      "tetanus: 1\n",
      "diphtheria: 1\n",
      "pertussis: 1\n",
      "include: 1\n",
      "mmr: 1\n",
      "antibody: 1\n",
      "laboratory: 1\n",
      "testing: 1\n",
      "immunities: 1\n",
      "ordinarily: 1\n",
      "included: 1\n",
      "exam: 1\n",
      "except: 1\n",
      "those: 1\n",
      "immunization: 1\n",
      "own: 1\n",
      "care: 1\n",
      "providers: 1\n",
      "vaccinations: 1\n",
      "given: 1\n",
      "no: 1\n",
      "cost: 1\n",
      "occupational: 1\n",
      "type: 1\n",
      "fulltime: 1\n",
      "pay: 1\n",
      "7260000: 1\n",
      "12700000: 1\n",
      "per: 1\n",
      "benefits: 1\n",
      "insurance: 1\n",
      "5: 1\n",
      "8: 1\n",
      "hour: 1\n",
      "shift: 1\n",
      "person: 1\n",
      "<class 'list'>\n"
     ]
    }
   ],
   "source": [
    "\n",
    "def remove_punctuations(para):\n",
    "    return para.translate(str.maketrans(\" \", \" \",string.punctuation))\n",
    "\n",
    "def count_words(para):\n",
    "    \n",
    "    words=para.split()\n",
    "    make_dict={}\n",
    "    for word in words:\n",
    "        make_dict[word]=make_dict.get(word, 0)+1\n",
    "        \n",
    "    return make_dict\n",
    "    \n",
    "def sort_paragraph(para):\n",
    "    return sorted(para.items(), key=itemgetter(1), reverse=True)\n",
    "\n",
    "with open(\"input.txt\", \"r\") as file:\n",
    "    paragraph=file.read()\n",
    "    \n",
    "    paragraph= remove_punctuations(paragraph.lower())\n",
    "    \n",
    "    final_paragraph = sort_paragraph(count_words(paragraph))\n",
    "    # df=pd.DataFrame(final_paragraph)\n",
    "    # print(df)print\n",
    "    # df=pd.DataFrame(final_paragraph[1:], columns=final_paragraph[0])\n",
    "    # df.to_csv(\"sorted_paragraph.csv\", index=False)\n",
    "    for word,count in final_paragraph:\n",
    "        print(f'{word}: {count}')\n",
    "    print(type(final_paragraph))\n"
   ]
  },
  {
   "cell_type": "code",
   "execution_count": null,
   "metadata": {},
   "outputs": [],
   "source": []
  }
 ],
 "metadata": {
  "kernelspec": {
   "display_name": "Python 3",
   "language": "python",
   "name": "python3"
  },
  "language_info": {
   "codemirror_mode": {
    "name": "ipython",
    "version": 3
   },
   "file_extension": ".py",
   "mimetype": "text/x-python",
   "name": "python",
   "nbconvert_exporter": "python",
   "pygments_lexer": "ipython3",
   "version": "3.12.2"
  }
 },
 "nbformat": 4,
 "nbformat_minor": 2
}
